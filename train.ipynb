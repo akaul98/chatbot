{
 "cells": [
  {
   "cell_type": "code",
   "execution_count": 1,
   "metadata": {},
   "outputs": [
    {
     "name": "stdout",
     "output_type": "stream",
     "text": [
      "importing Jupyter notebook from nltk_utils.ipynb\n",
      "importing Jupyter notebook from model.ipynb\n"
     ]
    }
   ],
   "source": [
    "import import_ipynb\n",
    "import random\n",
    "import json\n",
    "from nltk_utils import tokenize, stem ,bag_of_words\n",
    "import numpy as np\n",
    "import pandas as pd\n",
    "import torch\n",
    "import torch.nn as nn\n",
    "from torch.utils.data import Dataset, DataLoader\n",
    "from model import NeuralNet"
   ]
  },
  {
   "cell_type": "code",
   "execution_count": 2,
   "metadata": {},
   "outputs": [],
   "source": [
    "with open('intents.json','r') as f:\n",
    "    intents=json.load(f)\n"
   ]
  },
  {
   "cell_type": "code",
   "execution_count": 3,
   "metadata": {},
   "outputs": [],
   "source": [
    "all_words=[]\n",
    "tags=[]\n",
    "xy=[]\n",
    "for intent in intents['intents']:\n",
    "    tag=intent['tag']\n",
    "    tags.append(tag)\n",
    "    for pattern in intent['patterns']:  \n",
    "        w=tokenize(pattern)\n",
    "        all_words.extend(w)\n",
    "        xy.append((w,tag))\n",
    "ignore_words=['!','@','#','$','&','*','(',')','-','=','?','.',',']\n",
    "all_words=[stem(w) for w in all_words if w not in ignore_words]"
   ]
  },
  {
   "cell_type": "code",
   "execution_count": 4,
   "metadata": {},
   "outputs": [],
   "source": [
    "all_words=sorted(set(all_words))\n"
   ]
  },
  {
   "cell_type": "code",
   "execution_count": 5,
   "metadata": {},
   "outputs": [
    {
     "data": {
      "text/plain": [
       "['delivery', 'funny', 'goodbye', 'greeting', 'items', 'payments', 'thanks']"
      ]
     },
     "execution_count": 5,
     "metadata": {},
     "output_type": "execute_result"
    }
   ],
   "source": [
    "tags=sorted(set(tags))\n",
    "tags"
   ]
  },
  {
   "cell_type": "code",
   "execution_count": 6,
   "metadata": {},
   "outputs": [
    {
     "data": {
      "text/plain": [
       "array([[0., 0., 0., ..., 0., 0., 0.],\n",
       "       [0., 0., 0., ..., 0., 0., 0.],\n",
       "       [0., 0., 0., ..., 0., 0., 1.],\n",
       "       ...,\n",
       "       [0., 1., 0., ..., 0., 0., 0.],\n",
       "       [0., 0., 0., ..., 0., 0., 0.],\n",
       "       [0., 1., 0., ..., 0., 0., 1.]], dtype=float32)"
      ]
     },
     "execution_count": 6,
     "metadata": {},
     "output_type": "execute_result"
    }
   ],
   "source": [
    "X_train=[]\n",
    "y_train=[]\n",
    "for pattern_sentence,tag in xy:\n",
    "    bag=bag_of_words(pattern_sentence,all_words)\n",
    "    X_train.append(bag)\n",
    "    label=tags.index(tag)\n",
    "    y_train.append(label)\n",
    "X_train=np.array(X_train)\n",
    "y_train=np.array(y_train)\n",
    "X_train"
   ]
  },
  {
   "cell_type": "code",
   "execution_count": 7,
   "metadata": {},
   "outputs": [],
   "source": [
    "class ChatDataset(Dataset):\n",
    "    def __init__(self):\n",
    "        self.n_samples=len(X_train)\n",
    "        self.x_data=X_train\n",
    "        self.y_data=y_train\n",
    "        \n",
    "    def __getitem__(self,index):\n",
    "        return self.x_data[index],self.y_data[index]\n",
    "    def __len__(self):\n",
    "        return self.n_samples"
   ]
  },
  {
   "cell_type": "code",
   "execution_count": 8,
   "metadata": {},
   "outputs": [],
   "source": [
    "#Hyper parameter \n",
    "batch_size=8\n",
    "hidden_size=8\n",
    "output_size=len(tags)\n",
    "input_size=len(X_train[0])\n",
    "learning_rate=0.001\n",
    "num_epochs=1000"
   ]
  },
  {
   "cell_type": "code",
   "execution_count": 9,
   "metadata": {},
   "outputs": [],
   "source": [
    "dataset=ChatDataset()\n",
    "trainloader=DataLoader(dataset=dataset,batch_size=batch_size,shuffle=True,num_workers=2)\n",
    "device=torch.device('cpu')\n",
    "model=NeuralNet(input_size,hidden_size,output_size).to(device)\n",
    "criterion = nn.CrossEntropyLoss()\n",
    "optimizer = torch.optim.Adam(model.parameters(), lr=learning_rate)"
   ]
  },
  {
   "cell_type": "code",
   "execution_count": 10,
   "metadata": {},
   "outputs": [
    {
     "name": "stderr",
     "output_type": "stream",
     "text": [
      "/home/akaul/anaconda3/envs/pytorch/lib/python3.8/site-packages/torch/autograd/__init__.py:130: UserWarning: CUDA initialization: CUDA unknown error - this may be due to an incorrectly set up environment, e.g. changing env variable CUDA_VISIBLE_DEVICES after program start. Setting the available devices to be zero. (Triggered internally at  /opt/conda/conda-bld/pytorch_1603729009598/work/c10/cuda/CUDAFunctions.cpp:100.)\n",
      "  Variable._execution_engine.run_backward(\n"
     ]
    },
    {
     "name": "stdout",
     "output_type": "stream",
     "text": [
      "Epoch [100/1000], Loss: 1.3413\n",
      "Epoch [200/1000], Loss: 1.1571\n",
      "Epoch [300/1000], Loss: 0.0780\n",
      "Epoch [400/1000], Loss: 0.0095\n",
      "Epoch [500/1000], Loss: 0.0100\n",
      "Epoch [600/1000], Loss: 0.0132\n",
      "Epoch [700/1000], Loss: 0.0084\n",
      "Epoch [800/1000], Loss: 0.0012\n",
      "Epoch [900/1000], Loss: 0.0005\n",
      "Epoch [1000/1000], Loss: 0.0018\n"
     ]
    }
   ],
   "source": [
    "for epoch in range(num_epochs):\n",
    "    for (words, labels) in trainloader:\n",
    "        words = words.to(device)\n",
    "        labels = labels.to(dtype=torch.long).to(device)\n",
    "        \n",
    "        # Forward pass\n",
    "        outputs = model(words)\n",
    "        # if y would be one-hot, we must apply\n",
    "        # labels = torch.max(labels, 1)[1]\n",
    "        loss = criterion(outputs, labels)\n",
    "        \n",
    "        # Backward and optimize\n",
    "        optimizer.zero_grad()\n",
    "        loss.backward()\n",
    "        optimizer.step()\n",
    "        \n",
    "    if (epoch+1) % 100 == 0:\n",
    "        print (f'Epoch [{epoch+1}/{num_epochs}], Loss: {loss.item():.4f}')"
   ]
  },
  {
   "cell_type": "code",
   "execution_count": 11,
   "metadata": {},
   "outputs": [],
   "source": [
    "data={\n",
    "    \"model_state\":model.state_dict(),\n",
    "    \"output_size\":output_size,\n",
    "    \"input_size\":input_size,\n",
    "    \"hidden_size\":hidden_size,\n",
    "    \"all_words\":all_words,\n",
    "    \"tags\":tags  \n",
    "}"
   ]
  },
  {
   "cell_type": "code",
   "execution_count": 12,
   "metadata": {},
   "outputs": [
    {
     "name": "stdout",
     "output_type": "stream",
     "text": [
      "<_io.TextIOWrapper name='intents.json' mode='r' encoding='UTF-8'> training completed. File saved to {FILE}\n"
     ]
    }
   ],
   "source": [
    "FILE=\"data.pth\"\n",
    "torch.save(data,FILE)\n",
    "print(f,'training completed. File saved to {FILE}')"
   ]
  },
  {
   "cell_type": "code",
   "execution_count": 13,
   "metadata": {},
   "outputs": [
    {
     "data": {
      "text/plain": [
       "'import numpy as np\\nimport random\\nimport json\\nimport import_ipynb\\nimport torch\\nimport torch.nn as nn\\nfrom torch.utils.data import Dataset, DataLoader\\n\\nfrom nltk_utils import bag_of_words, tokenize, stem\\nfrom model import NeuralNet\\n\\nwith open(\\'intents.json\\', \\'r\\') as f:\\n    intents = json.load(f)\\n\\nall_words = []\\ntags = []\\nxy = []\\n# loop through each sentence in our intents patterns\\nfor intent in intents[\\'intents\\']:\\n    tag = intent[\\'tag\\']\\n    # add to tag list\\n    tags.append(tag)\\n    for pattern in intent[\\'patterns\\']:\\n        # tokenize each word in the sentence\\n        w = tokenize(pattern)\\n        # add to our words list\\n        all_words.extend(w)\\n        # add to xy pair\\n        xy.append((w, tag))\\n\\n# stem and lower each word\\nignore_words = [\\'?\\', \\'.\\', \\'!\\']\\nall_words = [stem(w) for w in all_words if w not in ignore_words]\\n# remove duplicates and sort\\nall_words = sorted(set(all_words))\\ntags = sorted(set(tags))\\n\\nprint(len(xy), \"patterns\")\\nprint(len(tags), \"tags:\", tags)\\nprint(len(all_words), \"unique stemmed words:\", all_words)\\n\\n# create training data\\nX_train = []\\ny_train = []\\nfor (pattern_sentence, tag) in xy:\\n    # X: bag of words for each pattern_sentence\\n    bag = bag_of_words(pattern_sentence, all_words)\\n    X_train.append(bag)\\n    # y: PyTorch CrossEntropyLoss needs only class labels, not one-hot\\n    label = tags.index(tag)\\n    y_train.append(label)\\n\\nX_train = np.array(X_train)\\ny_train = np.array(y_train)\\n\\n# Hyper-parameters \\nnum_epochs = 1000\\nbatch_size = 8\\nlearning_rate = 0.001\\ninput_size = len(X_train[0])\\nhidden_size = 8\\noutput_size = len(tags)\\nprint(input_size, output_size)\\n\\nclass ChatDataset(Dataset):\\n\\n    def __init__(self):\\n        self.n_samples = len(X_train)\\n        self.x_data = X_train\\n        self.y_data = y_train\\n\\n    # support indexing such that dataset[i] can be used to get i-th sample\\n    def __getitem__(self, index):\\n        return self.x_data[index], self.y_data[index]\\n\\n    # we can call len(dataset) to return the size\\n    def __len__(self):\\n        return self.n_samples\\n\\ndataset = ChatDataset()\\ntrain_loader = DataLoader(dataset=dataset,\\n                          batch_size=batch_size,\\n                          shuffle=True,\\n                          num_workers=0)\\n\\ndevice = torch.device(\\'cpu\\')\\n\\nmodel = NeuralNet(input_size, hidden_size, output_size).to(device)\\n\\n# Loss and optimizer\\ncriterion = nn.CrossEntropyLoss()\\noptimizer = torch.optim.Adam(model.parameters(), lr=learning_rate)\\n\\n# Train the model\\nfor epoch in range(num_epochs):\\n    for (words, labels) in train_loader:\\n        words = words.to(device)\\n        labels = labels.to(dtype=torch.long).to(device)\\n        \\n        # Forward pass\\n        outputs = model(words)\\n        # if y would be one-hot, we must apply\\n        # labels = torch.max(labels, 1)[1]\\n        loss = criterion(outputs, labels)\\n        \\n        # Backward and optimize\\n        optimizer.zero_grad()\\n        loss.backward()\\n        optimizer.step()\\n        \\n    if (epoch+1) % 100 == 0:\\n        print (f\\'Epoch [{epoch+1}/{num_epochs}], Loss: {loss.item():.4f}\\')\\n\\n\\nprint(f\\'final loss: {loss.item():.4f}\\')\\n\\ndata = {\\n\"model_state\": model.state_dict(),\\n\"input_size\": input_size,\\n\"hidden_size\": hidden_size,\\n\"output_size\": output_size,\\n\"all_words\": all_words,\\n\"tags\": tags\\n}\\n\\nFILE = \"data.pth\"\\ntorch.save(data, FILE)\\n\\nprint(f\\'training complete. file saved to {FILE}\\')'"
      ]
     },
     "execution_count": 13,
     "metadata": {},
     "output_type": "execute_result"
    }
   ],
   "source": [
    "'''import numpy as np\n",
    "import random\n",
    "import json\n",
    "import import_ipynb\n",
    "import torch\n",
    "import torch.nn as nn\n",
    "from torch.utils.data import Dataset, DataLoader\n",
    "\n",
    "from nltk_utils import bag_of_words, tokenize, stem\n",
    "from model import NeuralNet\n",
    "\n",
    "with open('intents.json', 'r') as f:\n",
    "    intents = json.load(f)\n",
    "\n",
    "all_words = []\n",
    "tags = []\n",
    "xy = []\n",
    "# loop through each sentence in our intents patterns\n",
    "for intent in intents['intents']:\n",
    "    tag = intent['tag']\n",
    "    # add to tag list\n",
    "    tags.append(tag)\n",
    "    for pattern in intent['patterns']:\n",
    "        # tokenize each word in the sentence\n",
    "        w = tokenize(pattern)\n",
    "        # add to our words list\n",
    "        all_words.extend(w)\n",
    "        # add to xy pair\n",
    "        xy.append((w, tag))\n",
    "\n",
    "# stem and lower each word\n",
    "ignore_words = ['?', '.', '!']\n",
    "all_words = [stem(w) for w in all_words if w not in ignore_words]\n",
    "# remove duplicates and sort\n",
    "all_words = sorted(set(all_words))\n",
    "tags = sorted(set(tags))\n",
    "\n",
    "print(len(xy), \"patterns\")\n",
    "print(len(tags), \"tags:\", tags)\n",
    "print(len(all_words), \"unique stemmed words:\", all_words)\n",
    "\n",
    "# create training data\n",
    "X_train = []\n",
    "y_train = []\n",
    "for (pattern_sentence, tag) in xy:\n",
    "    # X: bag of words for each pattern_sentence\n",
    "    bag = bag_of_words(pattern_sentence, all_words)\n",
    "    X_train.append(bag)\n",
    "    # y: PyTorch CrossEntropyLoss needs only class labels, not one-hot\n",
    "    label = tags.index(tag)\n",
    "    y_train.append(label)\n",
    "\n",
    "X_train = np.array(X_train)\n",
    "y_train = np.array(y_train)\n",
    "\n",
    "# Hyper-parameters \n",
    "num_epochs = 1000\n",
    "batch_size = 8\n",
    "learning_rate = 0.001\n",
    "input_size = len(X_train[0])\n",
    "hidden_size = 8\n",
    "output_size = len(tags)\n",
    "print(input_size, output_size)\n",
    "\n",
    "class ChatDataset(Dataset):\n",
    "\n",
    "    def __init__(self):\n",
    "        self.n_samples = len(X_train)\n",
    "        self.x_data = X_train\n",
    "        self.y_data = y_train\n",
    "\n",
    "    # support indexing such that dataset[i] can be used to get i-th sample\n",
    "    def __getitem__(self, index):\n",
    "        return self.x_data[index], self.y_data[index]\n",
    "\n",
    "    # we can call len(dataset) to return the size\n",
    "    def __len__(self):\n",
    "        return self.n_samples\n",
    "\n",
    "dataset = ChatDataset()\n",
    "train_loader = DataLoader(dataset=dataset,\n",
    "                          batch_size=batch_size,\n",
    "                          shuffle=True,\n",
    "                          num_workers=0)\n",
    "\n",
    "device = torch.device('cpu')\n",
    "\n",
    "model = NeuralNet(input_size, hidden_size, output_size).to(device)\n",
    "\n",
    "# Loss and optimizer\n",
    "criterion = nn.CrossEntropyLoss()\n",
    "optimizer = torch.optim.Adam(model.parameters(), lr=learning_rate)\n",
    "\n",
    "# Train the model\n",
    "for epoch in range(num_epochs):\n",
    "    for (words, labels) in train_loader:\n",
    "        words = words.to(device)\n",
    "        labels = labels.to(dtype=torch.long).to(device)\n",
    "        \n",
    "        # Forward pass\n",
    "        outputs = model(words)\n",
    "        # if y would be one-hot, we must apply\n",
    "        # labels = torch.max(labels, 1)[1]\n",
    "        loss = criterion(outputs, labels)\n",
    "        \n",
    "        # Backward and optimize\n",
    "        optimizer.zero_grad()\n",
    "        loss.backward()\n",
    "        optimizer.step()\n",
    "        \n",
    "    if (epoch+1) % 100 == 0:\n",
    "        print (f'Epoch [{epoch+1}/{num_epochs}], Loss: {loss.item():.4f}')\n",
    "\n",
    "\n",
    "print(f'final loss: {loss.item():.4f}')\n",
    "\n",
    "data = {\n",
    "\"model_state\": model.state_dict(),\n",
    "\"input_size\": input_size,\n",
    "\"hidden_size\": hidden_size,\n",
    "\"output_size\": output_size,\n",
    "\"all_words\": all_words,\n",
    "\"tags\": tags\n",
    "}\n",
    "\n",
    "FILE = \"data.pth\"\n",
    "torch.save(data, FILE)\n",
    "\n",
    "print(f'training complete. file saved to {FILE}')'''"
   ]
  },
  {
   "cell_type": "code",
   "execution_count": null,
   "metadata": {},
   "outputs": [],
   "source": []
  }
 ],
 "metadata": {
  "kernelspec": {
   "display_name": "Python 3.7 (pytorch)",
   "language": "python",
   "name": "pytorch"
  },
  "language_info": {
   "codemirror_mode": {
    "name": "ipython",
    "version": 3
   },
   "file_extension": ".py",
   "mimetype": "text/x-python",
   "name": "python",
   "nbconvert_exporter": "python",
   "pygments_lexer": "ipython3",
   "version": "3.8.6"
  }
 },
 "nbformat": 4,
 "nbformat_minor": 4
}
