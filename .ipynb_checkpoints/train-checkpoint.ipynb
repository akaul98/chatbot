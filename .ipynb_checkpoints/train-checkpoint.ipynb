{
 "cells": [
  {
   "cell_type": "code",
   "execution_count": 1,
   "metadata": {},
   "outputs": [
    {
     "name": "stdout",
     "output_type": "stream",
     "text": [
      "importing Jupyter notebook from nltk_utils.ipynb\n",
      "importing Jupyter notebook from model.ipynb\n"
     ]
    }
   ],
   "source": [
    "import import_ipynb\n",
    "import random\n",
    "import json\n",
    "from nltk_utils import tokenize, stem ,bag_of_words\n",
    "import numpy as np\n",
    "import pandas as pd\n",
    "import torch\n",
    "import torch.nn as nn\n",
    "from torch.utils.data import Dataset, DataLoader\n",
    "from model import NeuralNet"
   ]
  },
  {
   "cell_type": "code",
   "execution_count": 2,
   "metadata": {},
   "outputs": [],
   "source": [
    "with open('intents.json','r') as f:\n",
    "    intents=json.load(f)\n"
   ]
  },
  {
   "cell_type": "code",
   "execution_count": 3,
   "metadata": {},
   "outputs": [],
   "source": [
    "all_words=[]\n",
    "tags=[]\n",
    "xy=[]\n",
    "for intent in intents['intents']:\n",
    "    tag=intent['tag']\n",
    "    tags.append(tag)\n",
    "    for pattern in intent['patterns']:  \n",
    "        w=tokenize(pattern)\n",
    "        all_words.extend(w)\n",
    "        xy.append((w,tag))\n",
    "ignore_words=['!','@','#','$','&','*','(',')','-','=','?','.',',']\n",
    "all_words=[stem(w) for w in all_words if w not in ignore_words]"
   ]
  },
  {
   "cell_type": "code",
   "execution_count": 4,
   "metadata": {},
   "outputs": [],
   "source": [
    "all_words=sorted(set(all_words))\n"
   ]
  },
  {
   "cell_type": "code",
   "execution_count": 5,
   "metadata": {},
   "outputs": [
    {
     "data": {
      "text/plain": [
       "['delivery', 'funny', 'goodbye', 'greeting', 'items', 'payments', 'thanks']"
      ]
     },
     "execution_count": 5,
     "metadata": {},
     "output_type": "execute_result"
    }
   ],
   "source": [
    "tags=sorted(set(tags))\n",
    "tags"
   ]
  },
  {
   "cell_type": "code",
   "execution_count": 6,
   "metadata": {},
   "outputs": [
    {
     "data": {
      "text/plain": [
       "array([[0., 0., 0., ..., 0., 0., 0.],\n",
       "       [0., 0., 0., ..., 0., 0., 0.],\n",
       "       [0., 0., 0., ..., 0., 0., 1.],\n",
       "       ...,\n",
       "       [0., 1., 0., ..., 0., 0., 0.],\n",
       "       [0., 0., 0., ..., 0., 0., 0.],\n",
       "       [0., 1., 0., ..., 0., 0., 1.]], dtype=float32)"
      ]
     },
     "execution_count": 6,
     "metadata": {},
     "output_type": "execute_result"
    }
   ],
   "source": [
    "X_train=[]\n",
    "y_train=[]\n",
    "for pattern_sentence,tag in xy:\n",
    "    bag=bag_of_words(pattern_sentence,all_words)\n",
    "    X_train.append(bag)\n",
    "    label=tags.index(tag)\n",
    "    y_train.append(label)\n",
    "X_train=np.array(X_train)\n",
    "y_train=np.array(y_train)\n",
    "X_train"
   ]
  },
  {
   "cell_type": "code",
   "execution_count": 7,
   "metadata": {},
   "outputs": [],
   "source": [
    "class ChatDataset(Dataset):\n",
    "    def __init__(self):\n",
    "        self.n_samples=len(X_train)\n",
    "        self.x_data=X_train\n",
    "        self.y_data=y_train\n",
    "        \n",
    "    def __getitem__(self,index):\n",
    "        return self.x_data[index],self.y_data[index]\n",
    "    def __len__(self):\n",
    "        return self.n_samples"
   ]
  },
  {
   "cell_type": "code",
   "execution_count": 8,
   "metadata": {},
   "outputs": [],
   "source": [
    "#Hyper parameter \n",
    "batch_size=8\n",
    "hidden_size=8\n",
    "output_size=len(tags)\n",
    "input_size=len(X_train[0])\n",
    "learning_rate=0.001\n",
    "num_epochs=1000"
   ]
  },
  {
   "cell_type": "code",
   "execution_count": 9,
   "metadata": {},
   "outputs": [],
   "source": [
    "dataset=ChatDataset()\n",
    "trainloader=DataLoader(dataset=dataset,batch_size=batch_size,shuffle=True,num_workers=2)\n",
    "device=torch.device('cpu')\n",
    "model=NeuralNet(input_size,hidden_size,output_size).to(device)\n",
    "criterion = nn.CrossEntropyLoss()\n",
    "optimizer = torch.optim.Adam(model.parameters(), lr=learning_rate)"
   ]
  },
  {
   "cell_type": "code",
   "execution_count": 10,
   "metadata": {},
   "outputs": [
    {
     "name": "stderr",
     "output_type": "stream",
     "text": [
      "/home/akaul/anaconda3/envs/pytorch/lib/python3.8/site-packages/torch/autograd/__init__.py:130: UserWarning: CUDA initialization: CUDA unknown error - this may be due to an incorrectly set up environment, e.g. changing env variable CUDA_VISIBLE_DEVICES after program start. Setting the available devices to be zero. (Triggered internally at  /opt/conda/conda-bld/pytorch_1603729009598/work/c10/cuda/CUDAFunctions.cpp:100.)\n",
      "  Variable._execution_engine.run_backward(\n"
     ]
    },
    {
     "name": "stdout",
     "output_type": "stream",
     "text": [
      "Epoch [100/1000], Loss: 1.3413\n",
      "Epoch [200/1000], Loss: 1.1571\n",
      "Epoch [300/1000], Loss: 0.0780\n",
      "Epoch [400/1000], Loss: 0.0095\n",
      "Epoch [500/1000], Loss: 0.0100\n",
      "Epoch [600/1000], Loss: 0.0132\n",
      "Epoch [700/1000], Loss: 0.0084\n",
      "Epoch [800/1000], Loss: 0.0012\n",
      "Epoch [900/1000], Loss: 0.0005\n",
      "Epoch [1000/1000], Loss: 0.0018\n"
     ]
    }
   ],
   "source": [
    "for epoch in range(num_epochs):\n",
    "    for (words, labels) in trainloader:\n",
    "        words = words.to(device)\n",
    "        labels = labels.to(dtype=torch.long).to(device)\n",
    "        \n",
    "        # Forward pass\n",
    "        outputs = model(words)\n",
    "        # if y would be one-hot, we must apply\n",
    "        # labels = torch.max(labels, 1)[1]\n",
    "        loss = criterion(outputs, labels)\n",
    "        \n",
    "        # Backward and optimize\n",
    "        optimizer.zero_grad()\n",
    "        loss.backward()\n",
    "        optimizer.step()\n",
    "        \n",
    "    if (epoch+1) % 100 == 0:\n",
    "        print (f'Epoch [{epoch+1}/{num_epochs}], Loss: {loss.item():.4f}')"
   ]
  },
  {
   "cell_type": "code",
   "execution_count": 11,
   "metadata": {},
   "outputs": [],
   "source": [
    "data={\n",
    "    \"model_state\":model.state_dict(),\n",
    "    \"output_size\":output_size,\n",
    "    \"input_size\":input_size,\n",
    "    \"hidden_size\":hidden_size,\n",
    "    \"all_words\":all_words,\n",
    "    \"tags\":tags  \n",
    "}"
   ]
  },
  {
   "cell_type": "code",
   "execution_count": 12,
   "metadata": {},
   "outputs": [
    {
     "name": "stdout",
     "output_type": "stream",
     "text": [
      "<_io.TextIOWrapper name='intents.json' mode='r' encoding='UTF-8'> training completed. File saved to {FILE}\n"
     ]
    }
   ],
   "source": [
    "FILE=\"data.pth\"\n",
    "torch.save(data,FILE)\n",
    "print(f,'training completed. File saved to {FILE}')"
   ]
  }
 ],
 "metadata": {
  "kernelspec": {
   "display_name": "Python 3.7 (pytorch)",
   "language": "python",
   "name": "pytorch"
  },
  "language_info": {
   "codemirror_mode": {
    "name": "ipython",
    "version": 3
   },
   "file_extension": ".py",
   "mimetype": "text/x-python",
   "name": "python",
   "nbconvert_exporter": "python",
   "pygments_lexer": "ipython3",
   "version": "3.8.6"
  }
 },
 "nbformat": 4,
 "nbformat_minor": 4
}
