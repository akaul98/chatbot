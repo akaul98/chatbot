{
 "cells": [
  {
   "cell_type": "code",
   "execution_count": 19,
   "metadata": {},
   "outputs": [],
   "source": [
    "import torch\n",
    "import torch.nn as nn"
   ]
  },
  {
   "cell_type": "code",
   "execution_count": 20,
   "metadata": {},
   "outputs": [
    {
     "data": {
      "text/plain": [
       "'class NeuralNet(nn.Module):\\n    def __init__(self,input_size,hidden_size,num_classes):\\n        super(NeuralNet, self).__init__()\\n        #first layer\\n        self.l1=nn.Linear(input_size,hidden_size)\\n        #second layer\\n        self.l2=nn.Linear(hidden_size,hidden_size)\\n        #Thrid layer\\n        self.l3=nn.Linear(hidden_size,num_classes)\\n        self.relu=nn.ReLU()'"
      ]
     },
     "execution_count": 20,
     "metadata": {},
     "output_type": "execute_result"
    }
   ],
   "source": [
    "'''class NeuralNet(nn.Module):\n",
    "    def __init__(self,input_size,hidden_size,num_classes):\n",
    "        super(NeuralNet, self).__init__()\n",
    "        #first layer\n",
    "        self.l1=nn.Linear(input_size,hidden_size)\n",
    "        #second layer\n",
    "        self.l2=nn.Linear(hidden_size,hidden_size)\n",
    "        #Thrid layer\n",
    "        self.l3=nn.Linear(hidden_size,num_classes)\n",
    "        self.relu=nn.ReLU()'''"
   ]
  },
  {
   "cell_type": "code",
   "execution_count": 21,
   "metadata": {},
   "outputs": [
    {
     "data": {
      "text/plain": [
       "'def forward(self,x):\\n    #firstlayer\\n    out=self.l1(x)\\n    out=self.relu(out)\\n    #secondlayer\\n    out=self.l2(x)\\n    out=self.relu(out)\\n    #3rd layer\\n    out=self.l3(x)\\n    return out'"
      ]
     },
     "execution_count": 21,
     "metadata": {},
     "output_type": "execute_result"
    }
   ],
   "source": [
    "'''def forward(self,x):\n",
    "    #firstlayer\n",
    "    out=self.l1(x)\n",
    "    out=self.relu(out)\n",
    "    #secondlayer\n",
    "    out=self.l2(x)\n",
    "    out=self.relu(out)\n",
    "    #3rd layer\n",
    "    out=self.l3(x)\n",
    "    return out'''"
   ]
  },
  {
   "cell_type": "code",
   "execution_count": 22,
   "metadata": {},
   "outputs": [],
   "source": [
    "\n",
    "import torch\n",
    "import torch.nn as nn\n",
    "\n",
    "\n",
    "class NeuralNet(nn.Module):\n",
    "    def __init__(self, input_size, hidden_size, num_classes):\n",
    "        super(NeuralNet, self).__init__()\n",
    "        self.l1 = nn.Linear(input_size, hidden_size) \n",
    "        self.l2 = nn.Linear(hidden_size, hidden_size) \n",
    "        self.l3 = nn.Linear(hidden_size, num_classes)\n",
    "        self.relu = nn.ReLU()\n",
    "    \n",
    "    def forward(self, x):\n",
    "        out = self.l1(x)\n",
    "        out = self.relu(out)\n",
    "        out = self.l2(out)\n",
    "        out = self.relu(out)\n",
    "        out = self.l3(out)\n",
    "        # no activation and no softmax at the end\n",
    "        return out"
   ]
  },
  {
   "cell_type": "code",
   "execution_count": null,
   "metadata": {},
   "outputs": [],
   "source": []
  },
  {
   "cell_type": "code",
   "execution_count": null,
   "metadata": {},
   "outputs": [],
   "source": []
  }
 ],
 "metadata": {
  "kernelspec": {
   "display_name": "Python 3.7 (pytorch)",
   "language": "python",
   "name": "pytorch"
  },
  "language_info": {
   "codemirror_mode": {
    "name": "ipython",
    "version": 3
   },
   "file_extension": ".py",
   "mimetype": "text/x-python",
   "name": "python",
   "nbconvert_exporter": "python",
   "pygments_lexer": "ipython3",
   "version": "3.8.6"
  }
 },
 "nbformat": 4,
 "nbformat_minor": 4
}
